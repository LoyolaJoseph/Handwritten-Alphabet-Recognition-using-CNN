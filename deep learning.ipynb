{
 "cells": [
  {
   "cell_type": "markdown",
   "metadata": {},
   "source": [
    "# PACKAGES "
   ]
  },
  {
   "cell_type": "code",
   "execution_count": 13,
   "metadata": {},
   "outputs": [
    {
     "name": "stdout",
     "output_type": "stream",
     "text": [
      "2.13.0\n",
      "2.13.1\n",
      "1.23.5\n"
     ]
    }
   ],
   "source": [
    "import tensorflow as tf\n",
    "import keras as k\n",
    "import os\n",
    "\n",
    "import numpy as np\n",
    "from keras.preprocessing import image\n",
    "\n",
    "from keras.models import Sequential\n",
    "\n",
    "from keras.layers import Dense, Activation, Dropout, Conv2D, MaxPooling2D,Flatten\n",
    "\n",
    "from keras.preprocessing.image import ImageDataGenerator\n",
    "\n",
    "print(tf.__version__)\n",
    "print(k.__version__)\n",
    "print(np.__version__)"
   ]
  },
  {
   "cell_type": "markdown",
   "metadata": {},
   "source": [
    "# MODEL BUILDING"
   ]
  },
  {
   "cell_type": "code",
   "execution_count": 14,
   "metadata": {},
   "outputs": [],
   "source": [
    "model = Sequential()\n",
    "model.add(Conv2D(32, (2, 2),input_shape = (64,64,3)))\n",
    "model.add(Activation('relu'))\n",
    "model.add(MaxPooling2D(pool_size =(2, 2)))\n",
    "\n",
    "model.add(Conv2D(32, (2, 2),padding='same'))\n",
    "model.add(Activation('relu'))\n",
    "model.add(MaxPooling2D(pool_size =(2, 2)))\n",
    "\n",
    "model.add(Conv2D(32, (2, 2),padding='valid'))\n",
    "model.add(Activation('relu'))\n",
    "model.add(MaxPooling2D(pool_size =(2, 2),strides=(1,1)))\n",
    "\n",
    "model.add(Flatten())\n",
    "model.add(Dense(64))\n",
    "model.add(Activation('relu'))\n",
    "model.add(Dropout(0.1))\n",
    "\n",
    "model.add(Dense(26))\n",
    "model.add(Activation('softmax'))\n",
    "\n",
    "model.compile(loss ='categorical_crossentropy',optimizer ='adam',metrics =['accuracy'])"
   ]
  },
  {
   "cell_type": "code",
   "execution_count": 15,
   "metadata": {},
   "outputs": [
    {
     "name": "stdout",
     "output_type": "stream",
     "text": [
      "Model: \"sequential_2\"\n",
      "_________________________________________________________________\n",
      " Layer (type)                Output Shape              Param #   \n",
      "=================================================================\n",
      " conv2d_6 (Conv2D)           (None, 63, 63, 32)        416       \n",
      "                                                                 \n",
      " activation_10 (Activation)  (None, 63, 63, 32)        0         \n",
      "                                                                 \n",
      " max_pooling2d_6 (MaxPoolin  (None, 31, 31, 32)        0         \n",
      " g2D)                                                            \n",
      "                                                                 \n",
      " conv2d_7 (Conv2D)           (None, 31, 31, 32)        4128      \n",
      "                                                                 \n",
      " activation_11 (Activation)  (None, 31, 31, 32)        0         \n",
      "                                                                 \n",
      " max_pooling2d_7 (MaxPoolin  (None, 15, 15, 32)        0         \n",
      " g2D)                                                            \n",
      "                                                                 \n",
      " conv2d_8 (Conv2D)           (None, 14, 14, 32)        4128      \n",
      "                                                                 \n",
      " activation_12 (Activation)  (None, 14, 14, 32)        0         \n",
      "                                                                 \n",
      " max_pooling2d_8 (MaxPoolin  (None, 13, 13, 32)        0         \n",
      " g2D)                                                            \n",
      "                                                                 \n",
      " flatten_2 (Flatten)         (None, 5408)              0         \n",
      "                                                                 \n",
      " dense_5 (Dense)             (None, 64)                346176    \n",
      "                                                                 \n",
      " activation_13 (Activation)  (None, 64)                0         \n",
      "                                                                 \n",
      " dropout_2 (Dropout)         (None, 64)                0         \n",
      "                                                                 \n",
      " dense_6 (Dense)             (None, 26)                1690      \n",
      "                                                                 \n",
      " activation_14 (Activation)  (None, 26)                0         \n",
      "                                                                 \n",
      "=================================================================\n",
      "Total params: 356538 (1.36 MB)\n",
      "Trainable params: 356538 (1.36 MB)\n",
      "Non-trainable params: 0 (0.00 Byte)\n",
      "_________________________________________________________________\n"
     ]
    }
   ],
   "source": [
    "model.summary()"
   ]
  },
  {
   "cell_type": "markdown",
   "metadata": {},
   "source": [
    "# TRAINING & TESTING"
   ]
  },
  {
   "cell_type": "code",
   "execution_count": 16,
   "metadata": {},
   "outputs": [
    {
     "name": "stdout",
     "output_type": "stream",
     "text": [
      "Found 2340 images belonging to 26 classes.\n",
      "Found 520 images belonging to 26 classes.\n",
      "Epoch 1/10\n",
      "20/20 [==============================] - 44s 2s/step - loss: 3.2762 - accuracy: 0.0516 - val_loss: 3.2562 - val_accuracy: 0.0312\n",
      "Epoch 2/10\n",
      "20/20 [==============================] - 32s 2s/step - loss: 3.2376 - accuracy: 0.0422 - val_loss: 3.2288 - val_accuracy: 0.0375\n",
      "Epoch 3/10\n",
      "20/20 [==============================] - 27s 1s/step - loss: 3.1736 - accuracy: 0.1063 - val_loss: 3.1049 - val_accuracy: 0.0875\n",
      "Epoch 4/10\n",
      "20/20 [==============================] - 24s 1s/step - loss: 3.0056 - accuracy: 0.1203 - val_loss: 2.9465 - val_accuracy: 0.1562\n",
      "Epoch 5/10\n",
      "20/20 [==============================] - 21s 1s/step - loss: 2.7198 - accuracy: 0.2016 - val_loss: 2.7394 - val_accuracy: 0.2500\n",
      "Epoch 6/10\n",
      "20/20 [==============================] - 22s 1s/step - loss: 2.5524 - accuracy: 0.2469 - val_loss: 2.4050 - val_accuracy: 0.3031\n",
      "Epoch 7/10\n",
      "20/20 [==============================] - 21s 1s/step - loss: 2.3108 - accuracy: 0.3219 - val_loss: 2.2894 - val_accuracy: 0.3500\n",
      "Epoch 8/10\n",
      "20/20 [==============================] - 21s 1s/step - loss: 2.0793 - accuracy: 0.3547 - val_loss: 2.0865 - val_accuracy: 0.3906\n",
      "Epoch 9/10\n",
      "20/20 [==============================] - 20s 1s/step - loss: 1.9801 - accuracy: 0.4003 - val_loss: 1.9825 - val_accuracy: 0.4031\n",
      "Epoch 10/10\n",
      "20/20 [==============================] - 21s 1s/step - loss: 1.7564 - accuracy: 0.4844 - val_loss: 1.9329 - val_accuracy: 0.4250\n"
     ]
    }
   ],
   "source": [
    "train_datagen = ImageDataGenerator(rescale = 1./255)\n",
    "test_datagen = ImageDataGenerator(rescale = 1./255)\n",
    "\n",
    "\n",
    "training_set = train_datagen.flow_from_directory(\"D:/Mini Project/HWR/Img/train\",\n",
    "                                                 target_size =(64, 64),\n",
    "                                                 batch_size = 32,\n",
    "                                                 class_mode = \"categorical\")\n",
    "\n",
    "test_set = test_datagen.flow_from_directory(\"D:/Mini Project/HWR/Img/test\",\n",
    "                                            target_size =(64,64),\n",
    "                                            batch_size = 32,\n",
    "                                            class_mode = \"categorical\") \n",
    "\n",
    "#model fit\n",
    "model_sum = model.fit(training_set,steps_per_epoch =20, \n",
    "                         epochs = 10,validation_data = test_set,\n",
    "                                validation_steps = 10)\n"
   ]
  },
  {
   "cell_type": "code",
   "execution_count": 17,
   "metadata": {},
   "outputs": [
    {
     "data": {
      "text/plain": [
       "{'A': 0,\n",
       " 'B': 1,\n",
       " 'C': 2,\n",
       " 'D': 3,\n",
       " 'E': 4,\n",
       " 'F': 5,\n",
       " 'G': 6,\n",
       " 'H': 7,\n",
       " 'I': 8,\n",
       " 'J': 9,\n",
       " 'K': 10,\n",
       " 'L': 11,\n",
       " 'M': 12,\n",
       " 'N': 13,\n",
       " 'O': 14,\n",
       " 'P': 15,\n",
       " 'Q': 16,\n",
       " 'R': 17,\n",
       " 'S': 18,\n",
       " 'T': 19,\n",
       " 'U': 20,\n",
       " 'V': 21,\n",
       " 'W': 22,\n",
       " 'X': 23,\n",
       " 'Y': 24,\n",
       " 'Z': 25}"
      ]
     },
     "execution_count": 17,
     "metadata": {},
     "output_type": "execute_result"
    }
   ],
   "source": [
    "training_set.class_indices"
   ]
  },
  {
   "cell_type": "code",
   "execution_count": 20,
   "metadata": {},
   "outputs": [
    {
     "name": "stdout",
     "output_type": "stream",
     "text": [
      "1/1 [==============================] - 0s 280ms/step\n"
     ]
    }
   ],
   "source": [
    "test_image = image.load_img(\"D:/Mini Project/HWR/Img/test/C/C.png\",target_size =(64,64))    \n",
    "test_image1 = image.img_to_array(test_image)\n",
    "test_image1 = np.expand_dims(test_image1, axis = 0)\n",
    "result = model.predict(test_image1)"
   ]
  },
  {
   "cell_type": "code",
   "execution_count": 21,
   "metadata": {},
   "outputs": [
    {
     "name": "stdout",
     "output_type": "stream",
     "text": [
      "The image is recognised to have the alphabet: C\n"
     ]
    }
   ],
   "source": [
    "for i in range(0,26):\n",
    "    l = \"a,b,c,d,e,f,g,h,i,j,k,l,m,n,o,p,q,r,s,t,u,v,w,x,y,z\"\n",
    "    if result[0][i] == 1:\n",
    "        test_image.show()\n",
    "        print(\"The image is recognised to have the alphabet: \" + l.replace(\",\",\"\").upper()[i])"
   ]
  }
 ],
 "metadata": {
  "kernelspec": {
   "display_name": "Python 3",
   "language": "python",
   "name": "python3"
  },
  "language_info": {
   "codemirror_mode": {
    "name": "ipython",
    "version": 3
   },
   "file_extension": ".py",
   "mimetype": "text/x-python",
   "name": "python",
   "nbconvert_exporter": "python",
   "pygments_lexer": "ipython3",
   "version": "3.8.5"
  }
 },
 "nbformat": 4,
 "nbformat_minor": 4
}
